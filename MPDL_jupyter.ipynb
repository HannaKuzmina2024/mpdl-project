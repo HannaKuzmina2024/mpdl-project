{
 "cells": [
  {
   "cell_type": "markdown",
   "metadata": {},
   "source": [
    "#### Welcome to the MPDL project"
   ]
  },
  {
   "cell_type": "markdown",
   "metadata": {},
   "source": [
    "First I am going to fetch data from Springer"
   ]
  },
  {
   "cell_type": "code",
   "execution_count": null,
   "metadata": {},
   "outputs": [],
   "source": [
    "import os\n",
    "from dotenv import load_dotenv\n",
    "\n",
    "load_dotenv()\n",
    "API_KEY = os.getenv(\"SPRINGER_API_KEY\")\n",
    "\n",
    "\n"
   ]
  },
  {
   "cell_type": "code",
   "execution_count": null,
   "metadata": {},
   "outputs": [],
   "source": [
    "import springernature_api_client.openaccess as openaccess\n",
    "\n",
    "\n",
    "\n",
    "# Initialize API client\n",
    "openaccess_client = openaccess.OpenAccessAPI(api_key=API_KEY)\n",
    "\n",
    "\n"
   ]
  },
  {
   "cell_type": "markdown",
   "metadata": {},
   "source": [
    "I use climate change data in our example"
   ]
  },
  {
   "cell_type": "code",
   "execution_count": null,
   "metadata": {},
   "outputs": [],
   "source": [
    "response = openaccess_client.search(q=\"climate change\", p=20, s=1, fetch_all=False, is_premium=False)\n",
    "\n"
   ]
  },
  {
   "cell_type": "code",
   "execution_count": null,
   "metadata": {},
   "outputs": [],
   "source": [
    "import pandas as pd\n",
    "\n",
    "# Convert response to DataFrame\n",
    "if \"records\" in response:\n",
    "    df = pd.DataFrame(response[\"records\"])\n",
    "    print(df.head())\n",
    "\n",
    "    # Save to a JSON file\n",
    "    df.to_json(\"springer_data.json\", orient=\"records\", indent=4)\n",
    "\n",
    "    # Save to a CSV file\n",
    "    df.to_csv(\"springer_data.csv\", index=False)\n",
    "\n",
    "    print(\"Data saved successfully!\")\n",
    "\n",
    "\n"
   ]
  },
  {
   "cell_type": "markdown",
   "metadata": {},
   "source": [
    "Next I perform data cleaning"
   ]
  },
  {
   "cell_type": "code",
   "execution_count": null,
   "metadata": {},
   "outputs": [],
   "source": [
    "import json\n",
    "import pandas as pd\n",
    "\n",
    "# Load the previously fetched Springer data\n",
    "with open(\"springer_data.json\", \"r\", encoding=\"utf-8\") as f:\n",
    "    data = json.load(f)\n",
    "\n",
    "# Ensure data format\n",
    "if isinstance(data, dict) and \"records\" in data:\n",
    "    records = data[\"records\"]  # Extract records list\n",
    "elif isinstance(data, list):\n",
    "    records = data  # Data is already a list\n",
    "else:\n",
    "    raise ValueError(\"Unexpected data format: Expected a list or dictionary with 'records' key.\")\n",
    "\n",
    "# Convert to DataFrame\n",
    "df = pd.DataFrame(records)\n",
    "\n",
    "# Handle missing keys safely\n",
    "df[\"url\"] = df[\"url\"].apply(lambda x: x[0][\"value\"] if isinstance(x, list) and x else None)\n",
    "df[\"creators\"] = df[\"creators\"].apply(lambda x: \", \".join([c.get(\"creator\", \"\") for c in x]) if isinstance(x, list) else None)\n",
    "\n",
    "\n",
    "def extract_subjects(x):\n",
    "    if isinstance(x, list):  # Ensure x is a list\n",
    "        return \", \".join([s.get(\"term\", \"\") for s in x if isinstance(s, dict)])  # Extract terms safely\n",
    "    elif isinstance(x, str):  # If it's a string, return it directly\n",
    "        return x\n",
    "    else:\n",
    "        return None  # Return None for unexpected formats\n",
    "\n",
    "df[\"subjects\"] = df[\"subjects\"].apply(extract_subjects)\n",
    "\n",
    "# Select relevant columns (handle missing columns safely)\n",
    "columns_to_keep = [\"contentType\", \"identifier\", \"language\", \"url\", \"title\", \"creators\", \"publicationName\", \"subjects\"]\n",
    "df_cleaned = df[[col for col in columns_to_keep if col in df.columns]]\n",
    "\n",
    "# Save cleaned data\n",
    "df_cleaned.to_json(\"springer_data_clean.json\", orient=\"records\", indent=4)\n",
    "df_cleaned.to_csv(\"springer_data_clean.csv\", index=False)\n",
    "\n",
    "print(\"Climate Change data successfully cleaned and saved!\")\n",
    "print(df_cleaned.head())\n",
    "\n",
    "\n"
   ]
  },
  {
   "cell_type": "markdown",
   "metadata": {},
   "source": [
    "I have already installed PostgreSQL17 and pgAdmin on my windows machine"
   ]
  },
  {
   "cell_type": "markdown",
   "metadata": {},
   "source": [
    "Start the database server (if not already). Default is port 5432"
   ]
  },
  {
   "cell_type": "code",
   "execution_count": null,
   "metadata": {},
   "outputs": [],
   "source": [
    "import psycopg2\n",
    "import pandas as pd\n",
    "import os\n",
    "from dotenv import load_dotenv\n",
    "\n",
    "load_dotenv()\n",
    "DB_PASSWORD = os.getenv(\"DB_PASSWORD\")\n",
    "\n",
    "#  PostgreSQL connection details\n",
    "DB_NAME = \"research_metadata\"\n",
    "DB_USER = \"postgres\"\n",
    "DB_HOST = \"localhost\"\n",
    "DB_PORT = \"5432\"  \n",
    "\n",
    "# Load cleaned CSV data\n",
    "df = pd.read_csv(\"springer_data_clean.csv\")\n",
    "\n",
    "try:\n",
    "    # Connect to PostgreSQL\n",
    "    conn = psycopg2.connect(\n",
    "        dbname=DB_NAME, user=DB_USER, password=DB_PASSWORD, host=DB_HOST, port=DB_PORT\n",
    "    )\n",
    "    cur = conn.cursor()\n",
    "    print(\" Connected to PostgreSQL!\")\n",
    "\n",
    "    #  Insert data into the database\n",
    "    for _, row in df.iterrows():\n",
    "        cur.execute(\n",
    "            \"\"\"\n",
    "            INSERT INTO research_articles (content_type, identifier, language, url, title, creators, publication_name, subjects)\n",
    "            VALUES (%s, %s, %s, %s, %s, %s, %s, %s)\n",
    "            ON CONFLICT (identifier) DO NOTHING;\n",
    "            \"\"\",\n",
    "            (\n",
    "                row[\"contentType\"],\n",
    "                row[\"identifier\"],\n",
    "                row[\"language\"],\n",
    "                row[\"url\"],\n",
    "                row[\"title\"],\n",
    "                row[\"creators\"],\n",
    "                row[\"publicationName\"],\n",
    "                row[\"subjects\"],\n",
    "            ),\n",
    "        )\n",
    "\n",
    "    # Commit the changes\n",
    "    conn.commit()\n",
    "    print(\"Data successfully inserted into PostgreSQL!\")\n",
    "\n",
    "except Exception as e:\n",
    "    print(\"Database error:\", e)\n",
    "\n",
    "finally:\n",
    "    cur.close()\n",
    "    conn.close()\n",
    "    print(\" PostgreSQL connection closed.\")\n"
   ]
  },
  {
   "cell_type": "markdown",
   "metadata": {},
   "source": [
    "#### Data exploration with SQL. Run the following queries in pgAdmin"
   ]
  },
  {
   "cell_type": "markdown",
   "metadata": {},
   "source": [
    "Count the total number of articles:"
   ]
  },
  {
   "cell_type": "markdown",
   "metadata": {},
   "source": [
    "```\n",
    "\n",
    "SELECT COUNT(*) FROM research_articles;\n",
    "```"
   ]
  },
  {
   "cell_type": "markdown",
   "metadata": {},
   "source": [
    "List the most frequent journals:"
   ]
  },
  {
   "cell_type": "markdown",
   "metadata": {},
   "source": [
    "```\n",
    "SELECT publication_name, COUNT(*) AS num_articles\n",
    "FROM research_articles\n",
    "GROUP BY publication_name\n",
    "ORDER BY num_articles DESC\n",
    "LIMIT 10;\n",
    "```"
   ]
  },
  {
   "cell_type": "markdown",
   "metadata": {},
   "source": [
    "Identify the most published authors:"
   ]
  },
  {
   "cell_type": "markdown",
   "metadata": {},
   "source": [
    "```\n",
    "SELECT creators, COUNT(*) AS num_articles\n",
    "FROM research_articles\n",
    "GROUP BY creators\n",
    "ORDER BY num_articles DESC\n",
    "LIMIT 10;\n",
    "```\n"
   ]
  },
  {
   "cell_type": "markdown",
   "metadata": {},
   "source": [
    "#### Data exploration with Pandas"
   ]
  },
  {
   "cell_type": "code",
   "execution_count": null,
   "metadata": {},
   "outputs": [],
   "source": [
    "import psycopg2\n",
    "import pandas as pd\n",
    "import numpy as np\n",
    "import matplotlib.pyplot as plt\n",
    "import os\n",
    "from dotenv import load_dotenv\n",
    "from sqlalchemy import create_engine\n",
    "\n",
    "# Load environment variables\n",
    "load_dotenv()\n",
    "DB_PASSWORD = os.getenv(\"DB_PASSWORD\")\n",
    "\n",
    "# PostgreSQL connection details\n",
    "DB_NAME = \"research_metadata\"\n",
    "DB_USER = \"postgres\"\n",
    "DB_HOST = \"localhost\"\n",
    "DB_PORT = \"5432\"\n",
    "\n",
    "# Use SQLAlchemy to manage the database connection\n",
    "engine = create_engine(f\"postgresql://{DB_USER}:{DB_PASSWORD}@{DB_HOST}:{DB_PORT}/{DB_NAME}\")\n",
    "\n",
    "# Function to Run SQL Query and Return Pandas DataFrame\n",
    "def run_query(query):\n",
    "    with engine.connect() as conn:\n",
    "        df = pd.read_sql_query(query, conn)\n",
    "    return df\n",
    "\n",
    "# Run Queries and Analyze Data\n",
    "\n",
    "# Total Number of Articles\n",
    "total_articles = run_query(\"SELECT COUNT(*) FROM research_articles;\")\n",
    "print(\"Total Articles:\", total_articles.iloc[0, 0])\n",
    "\n",
    "# Top 10 Journals by Publication Count\n",
    "top_journals = run_query(\"\"\"\n",
    "    SELECT publication_name, COUNT(*) AS num_articles\n",
    "    FROM research_articles\n",
    "    GROUP BY publication_name\n",
    "    ORDER BY num_articles DESC\n",
    "    LIMIT 10;\n",
    "\"\"\")\n",
    "\n",
    "\n",
    "\n",
    "# Top 10 Authors by Publication Count\n",
    "top_authors = run_query(\"\"\"\n",
    "    SELECT creators, COUNT(*) AS num_articles\n",
    "    FROM research_articles\n",
    "    GROUP BY creators\n",
    "    ORDER BY num_articles DESC\n",
    "    LIMIT 10;\n",
    "\"\"\")\n",
    "\n",
    "\n",
    "\n",
    "plt.figure(figsize=(12, 6))  # Increase figure size for better readability\n",
    "plt.bar(top_journals[\"publication_name\"], top_journals[\"num_articles\"], color=\"skyblue\")\n",
    "\n",
    "plt.xlabel(\"Journal\")\n",
    "plt.ylabel(\"Number of Articles\")\n",
    "plt.title(\"Top 10 Journals in Climate Change Research\")\n",
    "\n",
    "# Ensure all journal names are displayed properly\n",
    "plt.xticks(np.arange(len(top_journals)), top_journals[\"publication_name\"], rotation=45, ha=\"right\")\n",
    "\n",
    "plt.show()\n",
    "\n",
    "\n"
   ]
  }
 ],
 "metadata": {
  "kernelspec": {
   "display_name": "base",
   "language": "python",
   "name": "python3"
  },
  "language_info": {
   "codemirror_mode": {
    "name": "ipython",
    "version": 3
   },
   "file_extension": ".py",
   "mimetype": "text/x-python",
   "name": "python",
   "nbconvert_exporter": "python",
   "pygments_lexer": "ipython3",
   "version": "3.12.7"
  }
 },
 "nbformat": 4,
 "nbformat_minor": 2
}
